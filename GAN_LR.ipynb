{
  "nbformat": 4,
  "nbformat_minor": 0,
  "metadata": {
    "colab": {
      "name": "GAN-LR.ipynb",
      "provenance": [],
      "collapsed_sections": [],
      "include_colab_link": true
    },
    "kernelspec": {
      "name": "python3",
      "display_name": "Python 3"
    }
  },
  "cells": [
    {
      "cell_type": "markdown",
      "metadata": {
        "id": "view-in-github",
        "colab_type": "text"
      },
      "source": [
        "<a href=\"https://colab.research.google.com/github/royhalt/royhalt/blob/main/GAN_LR.ipynb\" target=\"_parent\"><img src=\"https://colab.research.google.com/assets/colab-badge.svg\" alt=\"Open In Colab\"/></a>"
      ]
    },
    {
      "cell_type": "code",
      "metadata": {
        "id": "Ry_OT8h5zTuz",
        "cellView": "both",
        "colab": {
          "base_uri": "https://localhost:8080/"
        },
        "outputId": "bd0f3eb0-f15f-4e7e-9f52-8bb3a0aad0e3"
      },
      "source": [
        "from google.colab import drive\n",
        "drive.mount('/content/drive')"
      ],
      "execution_count": null,
      "outputs": [
        {
          "output_type": "stream",
          "name": "stdout",
          "text": [
            "Drive already mounted at /content/drive; to attempt to forcibly remount, call drive.mount(\"/content/drive\", force_remount=True).\n"
          ]
        }
      ]
    },
    {
      "cell_type": "code",
      "source": [
        "# ==== PATHS ====\n",
        "BASE_PATH = '/content/drive/My Drive/NCKH/GAN/X.Leopard/Run_On_CICIDS-2018/'\n",
        "\n",
        "# DATASET_PATHs - DATASET_PATHs\n",
        "DATASET_PATH = BASE_PATH + '1. Dataset/'\n",
        "FINAL_DATASET_PATH = DATASET_PATH + \"CICIDS-2017_FINAL_4USING/\"\n",
        "TRAINSET_PATH = FINAL_DATASET_PATH + 'Trainset/'\n",
        "TESTSET_FILE_PATH = FINAL_DATASET_PATH + 'Testset.csv'\n",
        "\n",
        "# SAVE_MODEL_PATHs - SAVE_MODEL_PATH\n",
        "SAVE_MODEL_PATH = BASE_PATH + '3. Save Model/'\n",
        "IDS_MODEL_PATH = SAVE_MODEL_PATH + \"IDSModel/\"\n",
        "GAN_MODEL_PATH = SAVE_MODEL_PATH + \"GANModel/\"\n",
        "GAN_MODEL_PATH_2017 = SAVE_MODEL_PATH + \"GANModel2017/\"\n",
        "\n",
        "\n",
        "# ==== CONST ====\n",
        "CIC_IDS_2018_N_FEATURES = 68"
      ],
      "metadata": {
        "id": "epil9xE2IRUH"
      },
      "execution_count": null,
      "outputs": []
    },
    {
      "cell_type": "code",
      "source": [
        "# ADD MODULE PATH - TO IMPORT CUSTOM CONSTANTs, CLASSes\n",
        "# Modules Path\n",
        "# FOLDER_PATH = '/content/drive/My Drive/WORKING - InSecLab/Google Colab/GAN/X.Leopard'\n",
        "# FOLDER_PATH = '/content/drive/MyDrive/NCKH/GAN/X.Leopard'\n",
        "# BASE_PATH = FOLDER_PATH + '/Run_On_CICIDS-2018/'\n",
        "# TRAINSET_PATH = '/content/drive/My Drive/NCKH/GAN/X.Leopard/Run_On_CICIDS-2018/1. Dataset/CICIDS-2017_FINAL_4USING/Testset.csv'\n",
        "# TESTSET_FILE_PATH\n",
        "ModulePath = BASE_PATH + '2. Colab/Modules'\n",
        "\n",
        "import sys\n",
        "sys.path.append(ModulePath)\n",
        "from models import *"
      ],
      "metadata": {
        "id": "_3myyd1NIGBd"
      },
      "execution_count": null,
      "outputs": []
    },
    {
      "cell_type": "code",
      "metadata": {
        "id": "h5ezxHxU1oZv"
      },
      "source": [
        "# FOLDER_PATH = '/content/drive/MyDrive/NCKH/GAN/X.Leopard'\n",
        "# BASE_PATH = FOLDER_PATH + '/Run_On_CICIDS-2018/'\n",
        "# #TRAINSET_PATH = '/content/drive/My Drive/NCKH/GAN/X.Leopard/Run_On_CICIDS-2018/1. Dataset/CICIDS-2018_FINAL_4USING/Testset.csv'\n",
        "# ModulePath = BASE_PATH + '2. Colab/Modules'\n",
        "\n",
        "# import sys\n",
        "# sys.path.append(ModulePath)\n",
        "# from constants import *\n",
        "# from models import *"
      ],
      "execution_count": null,
      "outputs": []
    },
    {
      "cell_type": "markdown",
      "metadata": {
        "id": "m27n3nFSTSv2"
      },
      "source": [
        "# **1. LIBS, PATHS & CONTS**"
      ]
    },
    {
      "cell_type": "markdown",
      "metadata": {
        "id": "7VoO1x51MWAJ"
      },
      "source": [
        "## **LIBS**"
      ]
    },
    {
      "cell_type": "code",
      "metadata": {
        "id": "u7ZZvZaAbM1J"
      },
      "source": [
        "# !pip3 numpy torc sklearn matplotlib pandas"
      ],
      "execution_count": null,
      "outputs": []
    },
    {
      "cell_type": "code",
      "metadata": {
        "id": "YIQ708lZS2lF"
      },
      "source": [
        "import numpy as np\n",
        "import pandas as pd\n",
        "import torch as th\n",
        "from torch.autograd import Variable as V\n",
        "import torch.autograd as autograd\n",
        "import torch.nn as nn\n",
        "import torch.nn.functional as F\n",
        "import torch.optim as optim\n",
        "from sklearn.utils import shuffle\n",
        "from sklearn.metrics import confusion_matrix\n",
        "import pickle\n",
        "\n",
        "# Libs for Keras\n",
        "from keras.models import load_model\n",
        "\n",
        "import matplotlib.pyplot as plt\n",
        "import math\n",
        "import os\n",
        "from datetime import date\n",
        "import timeit"
      ],
      "execution_count": null,
      "outputs": []
    },
    {
      "cell_type": "markdown",
      "metadata": {
        "id": "3rFWSSBQF99E"
      },
      "source": [
        "## **PATHS**"
      ]
    },
    {
      "cell_type": "code",
      "metadata": {
        "id": "uW-RHzMwdsG5",
        "colab": {
          "base_uri": "https://localhost:8080/",
          "height": 36
        },
        "outputId": "07338382-6cd8-4c5c-fca0-3943869a70c6"
      },
      "source": [
        "# Dataset Path\n",
        "# g_trainset_path = \"/content/drive/MyDrive/NCKH/Dataset/CICIDS-2018/CICIDS-2018_FINAL_4USING/Trainset/GAN-G.csv\"\n",
        "# d_trainset_path = \"/content/drive/MyDrive/NCKH/Dataset/CICIDS-2018/CICIDS-2018_FINAL_4USING/Trainset/GAN-D.csv\"\n",
        "# testset_path = \"/content/drive/MyDrive/NCKH/Dataset/CICIDS-2018/CICIDS-2018_FINAL_4USING/Testset.csv\"\n",
        "# testset_path\n",
        "g_trainset_path = TRAINSET_PATH + \"GAN-G.csv\"\n",
        "d_trainset_path = TRAINSET_PATH + \"GAN-D.csv\"\n",
        "testset_path = TESTSET_FILE_PATH\n",
        "testset_path"
      ],
      "execution_count": null,
      "outputs": [
        {
          "output_type": "execute_result",
          "data": {
            "text/plain": [
              "'/content/drive/My Drive/NCKH/GAN/X.Leopard/Run_On_CICIDS-2018/1. Dataset/CICIDS-2017_FINAL_4USING/Testset.csv'"
            ],
            "application/vnd.google.colaboratory.intrinsic+json": {
              "type": "string"
            }
          },
          "metadata": {},
          "execution_count": 73
        }
      ]
    },
    {
      "cell_type": "code",
      "metadata": {
        "id": "Y9p7ne6gyF1Y",
        "colab": {
          "base_uri": "https://localhost:8080/"
        },
        "outputId": "f8b2b6f4-f5e6-45ec-c284-3e497d092519"
      },
      "source": [
        "# Functional Features of DoS Attack Traffics (REFERENCE: SIGMA : Strengthening IDS with GAN and Metaheuristics Attacks)\n",
        "s = \"Flow Duration, Active Mean, Average Packet Size, Packet Length Std, Flow IAT Mean, PSH Flag Count, Idle Max\"\n",
        "short_names = {'Packet Length Std': 'Pkt Len Std', 'PSH Flag Count': 'PSH Flag Cnt', 'Average Packet Size': 'Pkt Size Avg'}\n",
        "for full_name, short_name in short_names.items():\n",
        "    s = s.replace(full_name, short_name)    \n",
        "\n",
        "dos_functional_feature=s.split(', ')\n",
        "dos_functional_feature"
      ],
      "execution_count": null,
      "outputs": [
        {
          "output_type": "execute_result",
          "data": {
            "text/plain": [
              "['Flow Duration',\n",
              " 'Active Mean',\n",
              " 'Pkt Size Avg',\n",
              " 'Pkt Len Std',\n",
              " 'Flow IAT Mean',\n",
              " 'PSH Flag Cnt',\n",
              " 'Idle Max']"
            ]
          },
          "metadata": {},
          "execution_count": 74
        }
      ]
    },
    {
      "cell_type": "markdown",
      "metadata": {
        "id": "XwTYqTdfF-wS"
      },
      "source": [
        "## **CONSTS**"
      ]
    },
    {
      "cell_type": "code",
      "metadata": {
        "id": "USfenZoASArT",
        "colab": {
          "base_uri": "https://localhost:8080/",
          "height": 626
        },
        "outputId": "8b06e880-c96b-432c-ba82-5f8409217266"
      },
      "source": [
        "testset = pd.read_csv(testset_path)\n",
        "testset"
      ],
      "execution_count": null,
      "outputs": [
        {
          "output_type": "execute_result",
          "data": {
            "text/plain": [
              "        Destination Port   Protocol   Flow Duration   Total Fwd Packets  \\\n",
              "0               0.001222   0.352941        0.012202            0.000000   \n",
              "1               0.000809   1.000000        0.001567            0.000005   \n",
              "2               0.000809   1.000000        0.000508            0.000005   \n",
              "3               0.001222   0.352941        0.952622            0.000304   \n",
              "4               0.000809   1.000000        0.044287            0.000015   \n",
              "...                  ...        ...             ...                 ...   \n",
              "69137           0.001222   0.352941        0.095174            0.000039   \n",
              "69138           0.001222   0.352941        0.100800            0.000005   \n",
              "69139           0.001222   0.352941        0.200509            0.000005   \n",
              "69140           0.001222   0.352941        0.980924            0.000005   \n",
              "69141           0.001222   0.352941        0.025089            0.000005   \n",
              "\n",
              "        Total Backward Packets  Total Length of Fwd Packets  \\\n",
              "0                     0.000015                     0.000005   \n",
              "1                     0.000007                     0.000049   \n",
              "2                     0.000007                     0.000062   \n",
              "3                     0.000136                     0.026548   \n",
              "4                     0.000015                     0.000106   \n",
              "...                        ...                          ...   \n",
              "69137                 0.000018                     0.000315   \n",
              "69138                 0.000000                     0.000000   \n",
              "69139                 0.000000                     0.000000   \n",
              "69140                 0.000000                     0.000000   \n",
              "69141                 0.000000                     0.000000   \n",
              "\n",
              "        Total Length of Bwd Packets   Fwd Packet Length Max  \\\n",
              "0                      9.569378e-09                0.000242   \n",
              "1                      4.210526e-07                0.001209   \n",
              "2                      4.784689e-07                0.001531   \n",
              "3                      1.616268e-05                0.050363   \n",
              "4                      9.090909e-07                0.001370   \n",
              "...                             ...                     ...   \n",
              "69137                  1.855183e-05                0.015552   \n",
              "69138                  0.000000e+00                0.000000   \n",
              "69139                  0.000000e+00                0.000000   \n",
              "69140                  0.000000e+00                0.000000   \n",
              "69141                  0.000000e+00                0.000000   \n",
              "\n",
              "        Fwd Packet Length Min   Fwd Packet Length Mean  ...  \\\n",
              "0                    0.002906                 0.001293  ...   \n",
              "1                    0.014528                 0.006464  ...   \n",
              "2                    0.018402                 0.008188  ...   \n",
              "3                    0.000000                 0.111151  ...   \n",
              "4                    0.015012                 0.007003  ...   \n",
              "...                       ...                      ...  ...   \n",
              "69137                0.000000                 0.009242  ...   \n",
              "69138                0.000000                 0.000000  ...   \n",
              "69139                0.000000                 0.000000  ...   \n",
              "69140                0.000000                 0.000000  ...   \n",
              "69141                0.000000                 0.000000  ...   \n",
              "\n",
              "        min_seg_size_forward  Active Mean   Active Std   Active Max  \\\n",
              "0                         20          0.0        0.000          0.0   \n",
              "1                         32          0.0        0.000          0.0   \n",
              "2                         20          0.0        0.000          0.0   \n",
              "3                         20    3624701.5  5342827.828   13900000.0   \n",
              "4                         32        191.0        0.000        191.0   \n",
              "...                      ...          ...          ...          ...   \n",
              "69137                     32    1001110.0        0.000    1001110.0   \n",
              "69138                     32          0.0        0.000          0.0   \n",
              "69139                     32          0.0        0.000          0.0   \n",
              "69140                     32          0.0        0.000          0.0   \n",
              "69141                     32          0.0        0.000          0.0   \n",
              "\n",
              "        Active Min     Idle Mean     Idle Std     Idle Max     Idle Min  \\\n",
              "0              0.0  0.000000e+00        0.000          0.0          0.0   \n",
              "1              0.0  0.000000e+00        0.000          0.0          0.0   \n",
              "2              0.0  0.000000e+00        0.000          0.0          0.0   \n",
              "3          50757.0  7.600854e+06  1559922.001    9800593.0    5525060.0   \n",
              "4            191.0  5.314076e+06        0.000    5314076.0    5314076.0   \n",
              "...            ...           ...          ...          ...          ...   \n",
              "69137    1001110.0  5.417784e+06        0.000    5417784.0    5417784.0   \n",
              "69138          0.0  1.210000e+07        0.000   12100000.0   12100000.0   \n",
              "69139          0.0  2.410000e+07        0.000   24100000.0   24100000.0   \n",
              "69140          0.0  1.180000e+08        0.000  118000000.0  118000000.0   \n",
              "69141          0.0  0.000000e+00        0.000          0.0          0.0   \n",
              "\n",
              "               Label  \n",
              "0             BENIGN  \n",
              "1             BENIGN  \n",
              "2             BENIGN  \n",
              "3             BENIGN  \n",
              "4             BENIGN  \n",
              "...              ...  \n",
              "69137  DoS GoldenEye  \n",
              "69138  DoS GoldenEye  \n",
              "69139  DoS GoldenEye  \n",
              "69140  DoS GoldenEye  \n",
              "69141  DoS GoldenEye  \n",
              "\n",
              "[69142 rows x 69 columns]"
            ],
            "text/html": [
              "\n",
              "  <div id=\"df-aa058663-2f91-4b34-8078-b1503ca54c89\">\n",
              "    <div class=\"colab-df-container\">\n",
              "      <div>\n",
              "<style scoped>\n",
              "    .dataframe tbody tr th:only-of-type {\n",
              "        vertical-align: middle;\n",
              "    }\n",
              "\n",
              "    .dataframe tbody tr th {\n",
              "        vertical-align: top;\n",
              "    }\n",
              "\n",
              "    .dataframe thead th {\n",
              "        text-align: right;\n",
              "    }\n",
              "</style>\n",
              "<table border=\"1\" class=\"dataframe\">\n",
              "  <thead>\n",
              "    <tr style=\"text-align: right;\">\n",
              "      <th></th>\n",
              "      <th>Destination Port</th>\n",
              "      <th>Protocol</th>\n",
              "      <th>Flow Duration</th>\n",
              "      <th>Total Fwd Packets</th>\n",
              "      <th>Total Backward Packets</th>\n",
              "      <th>Total Length of Fwd Packets</th>\n",
              "      <th>Total Length of Bwd Packets</th>\n",
              "      <th>Fwd Packet Length Max</th>\n",
              "      <th>Fwd Packet Length Min</th>\n",
              "      <th>Fwd Packet Length Mean</th>\n",
              "      <th>...</th>\n",
              "      <th>min_seg_size_forward</th>\n",
              "      <th>Active Mean</th>\n",
              "      <th>Active Std</th>\n",
              "      <th>Active Max</th>\n",
              "      <th>Active Min</th>\n",
              "      <th>Idle Mean</th>\n",
              "      <th>Idle Std</th>\n",
              "      <th>Idle Max</th>\n",
              "      <th>Idle Min</th>\n",
              "      <th>Label</th>\n",
              "    </tr>\n",
              "  </thead>\n",
              "  <tbody>\n",
              "    <tr>\n",
              "      <th>0</th>\n",
              "      <td>0.001222</td>\n",
              "      <td>0.352941</td>\n",
              "      <td>0.012202</td>\n",
              "      <td>0.000000</td>\n",
              "      <td>0.000015</td>\n",
              "      <td>0.000005</td>\n",
              "      <td>9.569378e-09</td>\n",
              "      <td>0.000242</td>\n",
              "      <td>0.002906</td>\n",
              "      <td>0.001293</td>\n",
              "      <td>...</td>\n",
              "      <td>20</td>\n",
              "      <td>0.0</td>\n",
              "      <td>0.000</td>\n",
              "      <td>0.0</td>\n",
              "      <td>0.0</td>\n",
              "      <td>0.000000e+00</td>\n",
              "      <td>0.000</td>\n",
              "      <td>0.0</td>\n",
              "      <td>0.0</td>\n",
              "      <td>BENIGN</td>\n",
              "    </tr>\n",
              "    <tr>\n",
              "      <th>1</th>\n",
              "      <td>0.000809</td>\n",
              "      <td>1.000000</td>\n",
              "      <td>0.001567</td>\n",
              "      <td>0.000005</td>\n",
              "      <td>0.000007</td>\n",
              "      <td>0.000049</td>\n",
              "      <td>4.210526e-07</td>\n",
              "      <td>0.001209</td>\n",
              "      <td>0.014528</td>\n",
              "      <td>0.006464</td>\n",
              "      <td>...</td>\n",
              "      <td>32</td>\n",
              "      <td>0.0</td>\n",
              "      <td>0.000</td>\n",
              "      <td>0.0</td>\n",
              "      <td>0.0</td>\n",
              "      <td>0.000000e+00</td>\n",
              "      <td>0.000</td>\n",
              "      <td>0.0</td>\n",
              "      <td>0.0</td>\n",
              "      <td>BENIGN</td>\n",
              "    </tr>\n",
              "    <tr>\n",
              "      <th>2</th>\n",
              "      <td>0.000809</td>\n",
              "      <td>1.000000</td>\n",
              "      <td>0.000508</td>\n",
              "      <td>0.000005</td>\n",
              "      <td>0.000007</td>\n",
              "      <td>0.000062</td>\n",
              "      <td>4.784689e-07</td>\n",
              "      <td>0.001531</td>\n",
              "      <td>0.018402</td>\n",
              "      <td>0.008188</td>\n",
              "      <td>...</td>\n",
              "      <td>20</td>\n",
              "      <td>0.0</td>\n",
              "      <td>0.000</td>\n",
              "      <td>0.0</td>\n",
              "      <td>0.0</td>\n",
              "      <td>0.000000e+00</td>\n",
              "      <td>0.000</td>\n",
              "      <td>0.0</td>\n",
              "      <td>0.0</td>\n",
              "      <td>BENIGN</td>\n",
              "    </tr>\n",
              "    <tr>\n",
              "      <th>3</th>\n",
              "      <td>0.001222</td>\n",
              "      <td>0.352941</td>\n",
              "      <td>0.952622</td>\n",
              "      <td>0.000304</td>\n",
              "      <td>0.000136</td>\n",
              "      <td>0.026548</td>\n",
              "      <td>1.616268e-05</td>\n",
              "      <td>0.050363</td>\n",
              "      <td>0.000000</td>\n",
              "      <td>0.111151</td>\n",
              "      <td>...</td>\n",
              "      <td>20</td>\n",
              "      <td>3624701.5</td>\n",
              "      <td>5342827.828</td>\n",
              "      <td>13900000.0</td>\n",
              "      <td>50757.0</td>\n",
              "      <td>7.600854e+06</td>\n",
              "      <td>1559922.001</td>\n",
              "      <td>9800593.0</td>\n",
              "      <td>5525060.0</td>\n",
              "      <td>BENIGN</td>\n",
              "    </tr>\n",
              "    <tr>\n",
              "      <th>4</th>\n",
              "      <td>0.000809</td>\n",
              "      <td>1.000000</td>\n",
              "      <td>0.044287</td>\n",
              "      <td>0.000015</td>\n",
              "      <td>0.000015</td>\n",
              "      <td>0.000106</td>\n",
              "      <td>9.090909e-07</td>\n",
              "      <td>0.001370</td>\n",
              "      <td>0.015012</td>\n",
              "      <td>0.007003</td>\n",
              "      <td>...</td>\n",
              "      <td>32</td>\n",
              "      <td>191.0</td>\n",
              "      <td>0.000</td>\n",
              "      <td>191.0</td>\n",
              "      <td>191.0</td>\n",
              "      <td>5.314076e+06</td>\n",
              "      <td>0.000</td>\n",
              "      <td>5314076.0</td>\n",
              "      <td>5314076.0</td>\n",
              "      <td>BENIGN</td>\n",
              "    </tr>\n",
              "    <tr>\n",
              "      <th>...</th>\n",
              "      <td>...</td>\n",
              "      <td>...</td>\n",
              "      <td>...</td>\n",
              "      <td>...</td>\n",
              "      <td>...</td>\n",
              "      <td>...</td>\n",
              "      <td>...</td>\n",
              "      <td>...</td>\n",
              "      <td>...</td>\n",
              "      <td>...</td>\n",
              "      <td>...</td>\n",
              "      <td>...</td>\n",
              "      <td>...</td>\n",
              "      <td>...</td>\n",
              "      <td>...</td>\n",
              "      <td>...</td>\n",
              "      <td>...</td>\n",
              "      <td>...</td>\n",
              "      <td>...</td>\n",
              "      <td>...</td>\n",
              "      <td>...</td>\n",
              "    </tr>\n",
              "    <tr>\n",
              "      <th>69137</th>\n",
              "      <td>0.001222</td>\n",
              "      <td>0.352941</td>\n",
              "      <td>0.095174</td>\n",
              "      <td>0.000039</td>\n",
              "      <td>0.000018</td>\n",
              "      <td>0.000315</td>\n",
              "      <td>1.855183e-05</td>\n",
              "      <td>0.015552</td>\n",
              "      <td>0.000000</td>\n",
              "      <td>0.009242</td>\n",
              "      <td>...</td>\n",
              "      <td>32</td>\n",
              "      <td>1001110.0</td>\n",
              "      <td>0.000</td>\n",
              "      <td>1001110.0</td>\n",
              "      <td>1001110.0</td>\n",
              "      <td>5.417784e+06</td>\n",
              "      <td>0.000</td>\n",
              "      <td>5417784.0</td>\n",
              "      <td>5417784.0</td>\n",
              "      <td>DoS GoldenEye</td>\n",
              "    </tr>\n",
              "    <tr>\n",
              "      <th>69138</th>\n",
              "      <td>0.001222</td>\n",
              "      <td>0.352941</td>\n",
              "      <td>0.100800</td>\n",
              "      <td>0.000005</td>\n",
              "      <td>0.000000</td>\n",
              "      <td>0.000000</td>\n",
              "      <td>0.000000e+00</td>\n",
              "      <td>0.000000</td>\n",
              "      <td>0.000000</td>\n",
              "      <td>0.000000</td>\n",
              "      <td>...</td>\n",
              "      <td>32</td>\n",
              "      <td>0.0</td>\n",
              "      <td>0.000</td>\n",
              "      <td>0.0</td>\n",
              "      <td>0.0</td>\n",
              "      <td>1.210000e+07</td>\n",
              "      <td>0.000</td>\n",
              "      <td>12100000.0</td>\n",
              "      <td>12100000.0</td>\n",
              "      <td>DoS GoldenEye</td>\n",
              "    </tr>\n",
              "    <tr>\n",
              "      <th>69139</th>\n",
              "      <td>0.001222</td>\n",
              "      <td>0.352941</td>\n",
              "      <td>0.200509</td>\n",
              "      <td>0.000005</td>\n",
              "      <td>0.000000</td>\n",
              "      <td>0.000000</td>\n",
              "      <td>0.000000e+00</td>\n",
              "      <td>0.000000</td>\n",
              "      <td>0.000000</td>\n",
              "      <td>0.000000</td>\n",
              "      <td>...</td>\n",
              "      <td>32</td>\n",
              "      <td>0.0</td>\n",
              "      <td>0.000</td>\n",
              "      <td>0.0</td>\n",
              "      <td>0.0</td>\n",
              "      <td>2.410000e+07</td>\n",
              "      <td>0.000</td>\n",
              "      <td>24100000.0</td>\n",
              "      <td>24100000.0</td>\n",
              "      <td>DoS GoldenEye</td>\n",
              "    </tr>\n",
              "    <tr>\n",
              "      <th>69140</th>\n",
              "      <td>0.001222</td>\n",
              "      <td>0.352941</td>\n",
              "      <td>0.980924</td>\n",
              "      <td>0.000005</td>\n",
              "      <td>0.000000</td>\n",
              "      <td>0.000000</td>\n",
              "      <td>0.000000e+00</td>\n",
              "      <td>0.000000</td>\n",
              "      <td>0.000000</td>\n",
              "      <td>0.000000</td>\n",
              "      <td>...</td>\n",
              "      <td>32</td>\n",
              "      <td>0.0</td>\n",
              "      <td>0.000</td>\n",
              "      <td>0.0</td>\n",
              "      <td>0.0</td>\n",
              "      <td>1.180000e+08</td>\n",
              "      <td>0.000</td>\n",
              "      <td>118000000.0</td>\n",
              "      <td>118000000.0</td>\n",
              "      <td>DoS GoldenEye</td>\n",
              "    </tr>\n",
              "    <tr>\n",
              "      <th>69141</th>\n",
              "      <td>0.001222</td>\n",
              "      <td>0.352941</td>\n",
              "      <td>0.025089</td>\n",
              "      <td>0.000005</td>\n",
              "      <td>0.000000</td>\n",
              "      <td>0.000000</td>\n",
              "      <td>0.000000e+00</td>\n",
              "      <td>0.000000</td>\n",
              "      <td>0.000000</td>\n",
              "      <td>0.000000</td>\n",
              "      <td>...</td>\n",
              "      <td>32</td>\n",
              "      <td>0.0</td>\n",
              "      <td>0.000</td>\n",
              "      <td>0.0</td>\n",
              "      <td>0.0</td>\n",
              "      <td>0.000000e+00</td>\n",
              "      <td>0.000</td>\n",
              "      <td>0.0</td>\n",
              "      <td>0.0</td>\n",
              "      <td>DoS GoldenEye</td>\n",
              "    </tr>\n",
              "  </tbody>\n",
              "</table>\n",
              "<p>69142 rows × 69 columns</p>\n",
              "</div>\n",
              "      <button class=\"colab-df-convert\" onclick=\"convertToInteractive('df-aa058663-2f91-4b34-8078-b1503ca54c89')\"\n",
              "              title=\"Convert this dataframe to an interactive table.\"\n",
              "              style=\"display:none;\">\n",
              "        \n",
              "  <svg xmlns=\"http://www.w3.org/2000/svg\" height=\"24px\"viewBox=\"0 0 24 24\"\n",
              "       width=\"24px\">\n",
              "    <path d=\"M0 0h24v24H0V0z\" fill=\"none\"/>\n",
              "    <path d=\"M18.56 5.44l.94 2.06.94-2.06 2.06-.94-2.06-.94-.94-2.06-.94 2.06-2.06.94zm-11 1L8.5 8.5l.94-2.06 2.06-.94-2.06-.94L8.5 2.5l-.94 2.06-2.06.94zm10 10l.94 2.06.94-2.06 2.06-.94-2.06-.94-.94-2.06-.94 2.06-2.06.94z\"/><path d=\"M17.41 7.96l-1.37-1.37c-.4-.4-.92-.59-1.43-.59-.52 0-1.04.2-1.43.59L10.3 9.45l-7.72 7.72c-.78.78-.78 2.05 0 2.83L4 21.41c.39.39.9.59 1.41.59.51 0 1.02-.2 1.41-.59l7.78-7.78 2.81-2.81c.8-.78.8-2.07 0-2.86zM5.41 20L4 18.59l7.72-7.72 1.47 1.35L5.41 20z\"/>\n",
              "  </svg>\n",
              "      </button>\n",
              "      \n",
              "  <style>\n",
              "    .colab-df-container {\n",
              "      display:flex;\n",
              "      flex-wrap:wrap;\n",
              "      gap: 12px;\n",
              "    }\n",
              "\n",
              "    .colab-df-convert {\n",
              "      background-color: #E8F0FE;\n",
              "      border: none;\n",
              "      border-radius: 50%;\n",
              "      cursor: pointer;\n",
              "      display: none;\n",
              "      fill: #1967D2;\n",
              "      height: 32px;\n",
              "      padding: 0 0 0 0;\n",
              "      width: 32px;\n",
              "    }\n",
              "\n",
              "    .colab-df-convert:hover {\n",
              "      background-color: #E2EBFA;\n",
              "      box-shadow: 0px 1px 2px rgba(60, 64, 67, 0.3), 0px 1px 3px 1px rgba(60, 64, 67, 0.15);\n",
              "      fill: #174EA6;\n",
              "    }\n",
              "\n",
              "    [theme=dark] .colab-df-convert {\n",
              "      background-color: #3B4455;\n",
              "      fill: #D2E3FC;\n",
              "    }\n",
              "\n",
              "    [theme=dark] .colab-df-convert:hover {\n",
              "      background-color: #434B5C;\n",
              "      box-shadow: 0px 1px 3px 1px rgba(0, 0, 0, 0.15);\n",
              "      filter: drop-shadow(0px 1px 2px rgba(0, 0, 0, 0.3));\n",
              "      fill: #FFFFFF;\n",
              "    }\n",
              "  </style>\n",
              "\n",
              "      <script>\n",
              "        const buttonEl =\n",
              "          document.querySelector('#df-aa058663-2f91-4b34-8078-b1503ca54c89 button.colab-df-convert');\n",
              "        buttonEl.style.display =\n",
              "          google.colab.kernel.accessAllowed ? 'block' : 'none';\n",
              "\n",
              "        async function convertToInteractive(key) {\n",
              "          const element = document.querySelector('#df-aa058663-2f91-4b34-8078-b1503ca54c89');\n",
              "          const dataTable =\n",
              "            await google.colab.kernel.invokeFunction('convertToInteractive',\n",
              "                                                     [key], {});\n",
              "          if (!dataTable) return;\n",
              "\n",
              "          const docLinkHtml = 'Like what you see? Visit the ' +\n",
              "            '<a target=\"_blank\" href=https://colab.research.google.com/notebooks/data_table.ipynb>data table notebook</a>'\n",
              "            + ' to learn more about interactive tables.';\n",
              "          element.innerHTML = '';\n",
              "          dataTable['output_type'] = 'display_data';\n",
              "          await google.colab.output.renderOutput(dataTable, element);\n",
              "          const docLink = document.createElement('div');\n",
              "          docLink.innerHTML = docLinkHtml;\n",
              "          element.appendChild(docLink);\n",
              "        }\n",
              "      </script>\n",
              "    </div>\n",
              "  </div>\n",
              "  "
            ]
          },
          "metadata": {},
          "execution_count": 75
        }
      ]
    },
    {
      "cell_type": "code",
      "metadata": {
        "id": "p7mG2Z03yzNX",
        "colab": {
          "base_uri": "https://localhost:8080/"
        },
        "outputId": "82970937-778b-4827-ffed-989cc8e0587e"
      },
      "source": [
        "print(\"Testset Columns:\\n - Num.: {}\\n{}\\n\\n\".format(len(testset.columns), testset.columns))\n",
        "# testset.loc[:, testset.columns != dos_functional_feature]\n",
        "dos_nonfunctional_features = testset[testset.columns[~testset.columns.isin(dos_functional_feature)]].columns\n",
        "#dos_nonfunctional_features = dos_nonfunctional_features.drop('Label')\n",
        "print(\"Nonfunctional Columns:\\n - Num.: {}\\n{}\".format(len(dos_nonfunctional_features), dos_nonfunctional_features))"
      ],
      "execution_count": null,
      "outputs": [
        {
          "output_type": "stream",
          "name": "stdout",
          "text": [
            "Testset Columns:\n",
            " - Num.: 69\n",
            "Index([' Destination Port', ' Protocol', ' Flow Duration',\n",
            "       ' Total Fwd Packets', ' Total Backward Packets',\n",
            "       'Total Length of Fwd Packets', ' Total Length of Bwd Packets',\n",
            "       ' Fwd Packet Length Max', ' Fwd Packet Length Min',\n",
            "       ' Fwd Packet Length Mean', ' Fwd Packet Length Std',\n",
            "       'Bwd Packet Length Max', ' Bwd Packet Length Min',\n",
            "       ' Bwd Packet Length Mean', ' Bwd Packet Length Std', 'Flow Bytes/s',\n",
            "       ' Flow Packets/s', ' Flow IAT Mean', ' Flow IAT Std', ' Flow IAT Max',\n",
            "       ' Flow IAT Min', 'Fwd IAT Total', ' Fwd IAT Mean', ' Fwd IAT Std',\n",
            "       ' Fwd IAT Max', ' Fwd IAT Min', 'Bwd IAT Total', ' Bwd IAT Mean',\n",
            "       ' Bwd IAT Std', ' Bwd IAT Max', ' Bwd IAT Min', 'Fwd PSH Flags',\n",
            "       ' Fwd Header Length', ' Bwd Header Length', 'Fwd Packets/s',\n",
            "       ' Bwd Packets/s', ' Min Packet Length', ' Max Packet Length',\n",
            "       ' Packet Length Mean', ' Packet Length Std', ' Packet Length Variance',\n",
            "       'FIN Flag Count', ' SYN Flag Count', ' RST Flag Count',\n",
            "       ' PSH Flag Count', ' ACK Flag Count', ' URG Flag Count',\n",
            "       ' ECE Flag Count', ' Down/Up Ratio', ' Average Packet Size',\n",
            "       ' Avg Fwd Segment Size', ' Avg Bwd Segment Size', 'Subflow Fwd Packets',\n",
            "       ' Subflow Fwd Bytes', ' Subflow Bwd Packets', ' Subflow Bwd Bytes',\n",
            "       'Init_Win_bytes_forward', ' Init_Win_bytes_backward',\n",
            "       ' act_data_pkt_fwd', ' min_seg_size_forward', 'Active Mean',\n",
            "       ' Active Std', ' Active Max', ' Active Min', 'Idle Mean', ' Idle Std',\n",
            "       ' Idle Max', ' Idle Min', 'Label'],\n",
            "      dtype='object')\n",
            "\n",
            "\n",
            "Nonfunctional Columns:\n",
            " - Num.: 68\n",
            "Index([' Destination Port', ' Protocol', ' Flow Duration',\n",
            "       ' Total Fwd Packets', ' Total Backward Packets',\n",
            "       'Total Length of Fwd Packets', ' Total Length of Bwd Packets',\n",
            "       ' Fwd Packet Length Max', ' Fwd Packet Length Min',\n",
            "       ' Fwd Packet Length Mean', ' Fwd Packet Length Std',\n",
            "       'Bwd Packet Length Max', ' Bwd Packet Length Min',\n",
            "       ' Bwd Packet Length Mean', ' Bwd Packet Length Std', 'Flow Bytes/s',\n",
            "       ' Flow Packets/s', ' Flow IAT Mean', ' Flow IAT Std', ' Flow IAT Max',\n",
            "       ' Flow IAT Min', 'Fwd IAT Total', ' Fwd IAT Mean', ' Fwd IAT Std',\n",
            "       ' Fwd IAT Max', ' Fwd IAT Min', 'Bwd IAT Total', ' Bwd IAT Mean',\n",
            "       ' Bwd IAT Std', ' Bwd IAT Max', ' Bwd IAT Min', 'Fwd PSH Flags',\n",
            "       ' Fwd Header Length', ' Bwd Header Length', 'Fwd Packets/s',\n",
            "       ' Bwd Packets/s', ' Min Packet Length', ' Max Packet Length',\n",
            "       ' Packet Length Mean', ' Packet Length Std', ' Packet Length Variance',\n",
            "       'FIN Flag Count', ' SYN Flag Count', ' RST Flag Count',\n",
            "       ' PSH Flag Count', ' ACK Flag Count', ' URG Flag Count',\n",
            "       ' ECE Flag Count', ' Down/Up Ratio', ' Average Packet Size',\n",
            "       ' Avg Fwd Segment Size', ' Avg Bwd Segment Size', 'Subflow Fwd Packets',\n",
            "       ' Subflow Fwd Bytes', ' Subflow Bwd Packets', ' Subflow Bwd Bytes',\n",
            "       'Init_Win_bytes_forward', ' Init_Win_bytes_backward',\n",
            "       ' act_data_pkt_fwd', ' min_seg_size_forward', ' Active Std',\n",
            "       ' Active Max', ' Active Min', 'Idle Mean', ' Idle Std', ' Idle Max',\n",
            "       ' Idle Min', 'Label'],\n",
            "      dtype='object')\n"
          ]
        }
      ]
    },
    {
      "cell_type": "code",
      "metadata": {
        "id": "8rBB0NLwGAce",
        "colab": {
          "base_uri": "https://localhost:8080/"
        },
        "outputId": "d3e0314a-f75b-4320-a5e1-57c7d8ad1556"
      },
      "source": [
        "# IDS DIM\n",
        "IDS_INPUT_DIM = CIC_IDS_2018_N_FEATURES\n",
        "IDS_OUTPUT_DIM = 2\n",
        "ATTACK_CATEGORY = 'DOS'\n",
        "IDS_INPUT_DIM"
      ],
      "execution_count": null,
      "outputs": [
        {
          "output_type": "execute_result",
          "data": {
            "text/plain": [
              "68"
            ]
          },
          "metadata": {},
          "execution_count": 77
        }
      ]
    },
    {
      "cell_type": "code",
      "metadata": {
        "id": "hlE7gDk07ybi",
        "colab": {
          "base_uri": "https://localhost:8080/"
        },
        "outputId": "77a733b5-dbed-47d0-aabd-d7b7e67c0e06"
      },
      "source": [
        "POS_NONFUNCTIONAL_FEATURES = []\n",
        "for f in dos_nonfunctional_features.drop('Label'):\n",
        "    POS_NONFUNCTIONAL_FEATURES.append(testset.columns.get_loc(f))\n",
        "\n",
        "print('Num. of Nonfunctional Features: ', len(POS_NONFUNCTIONAL_FEATURES))\n",
        "print('Position of Nonfunctional Features:\\n  ', POS_NONFUNCTIONAL_FEATURES)"
      ],
      "execution_count": null,
      "outputs": [
        {
          "output_type": "stream",
          "name": "stdout",
          "text": [
            "Num. of Nonfunctional Features:  67\n",
            "Position of Nonfunctional Features:\n",
            "   [0, 1, 2, 3, 4, 5, 6, 7, 8, 9, 10, 11, 12, 13, 14, 15, 16, 17, 18, 19, 20, 21, 22, 23, 24, 25, 26, 27, 28, 29, 30, 31, 32, 33, 34, 35, 36, 37, 38, 39, 40, 41, 42, 43, 44, 45, 46, 47, 48, 49, 50, 51, 52, 53, 54, 55, 56, 57, 58, 59, 61, 62, 63, 64, 65, 66, 67]\n"
          ]
        }
      ]
    },
    {
      "cell_type": "markdown",
      "metadata": {
        "id": "otbVJEAzcTv4"
      },
      "source": [
        "# **2. Define Functions**"
      ]
    },
    {
      "cell_type": "markdown",
      "metadata": {
        "id": "TcJBwwXf924F"
      },
      "source": [
        "## Processing Data Functions"
      ]
    },
    {
      "cell_type": "code",
      "metadata": {
        "id": "r81eRs5hx8Lf"
      },
      "source": [
        "# Processing Data Functions\n",
        "# create_batch2 - Hàm tạo Batch\n",
        "def create_batch2(x,batch_size):\n",
        "    a = list(range(len(x)))\n",
        "    np.random.shuffle(a)\n",
        "    x = x[a]\n",
        "    batch_x = [x[batch_size * i : (i+1)*batch_size,:] for i in range(len(x)//batch_size)]\n",
        "    return np.array(batch_x)\n",
        "# preprocess_malicious_data - Hàm tiền xử lý dữ liệu tấn công\n",
        "def preprocess_malicious_data(dataset):\n",
        "    mal_set_data = dataset[dataset.columns[dataset.columns != 'Label']]\n",
        "    return np.array(mal_set_data)"
      ],
      "execution_count": null,
      "outputs": []
    },
    {
      "cell_type": "markdown",
      "metadata": {
        "id": "fM7pjZa999Ht"
      },
      "source": [
        "## IDS Functions"
      ]
    },
    {
      "cell_type": "code",
      "metadata": {
        "id": "Ukp0y2LiyGmy"
      },
      "source": [
        "# IDS Functions\n",
        "# get_sklearn_ids_path - Get path for sklearn IDS Models\n",
        "def get_sklearn_ids_path(ids_save_name, attack_category='DOS'):\n",
        "    if attack_category != 'DOS' and attack_category != 'U2R_AND_R2L':\n",
        "        raise ValueError(\"Preprocess Data Fail: Invalid Attack Category\")\n",
        "    \n",
        "    # Run in DOS only\n",
        "    # ids_path = str(f\"{IDS_MODEL_PATH}{attack_category}/Machine_Learning/{ids_save_name}\")\n",
        "    ids_path = str(f\"{IDS_MODEL_PATH}Machine_Learning/{ids_save_name}\")\n",
        "    if not os.path.exists(ids_path):\n",
        "        raise ValueError(f\"Invalid path: {ids_path}\\nNot exist file!\")\n",
        "    return ids_path\n",
        "# load_pytorch_ids_model - Load PyTorch IDS Models\n",
        "def load_sklearn_ids_model(ids_save_name, attack_category='DOS'):\n",
        "    ids_model_path = get_sklearn_ids_path(ids_save_name, attack_category)\n",
        "    with open(ids_model_path, 'rb') as file:\n",
        "        pickle_model = pickle.load(file)\n",
        "        print(f\"{4*' '}Loaded IDS Model From: {ids_model_path}\")\n",
        "    return pickle_model"
      ],
      "execution_count": null,
      "outputs": []
    },
    {
      "cell_type": "markdown",
      "metadata": {
        "id": "J9Q5DryD-Dl0"
      },
      "source": [
        "## GAN Functions"
      ]
    },
    {
      "cell_type": "code",
      "metadata": {
        "id": "tV5MHCxUA-8G"
      },
      "source": [
        "# GAN Functions\n",
        "# init_generator - Khoi tao model GAN-G\n",
        "def init_generator(input_dim, output_dim, adversarial_attack_type = 1):\n",
        "    if adversarial_attack_type == 1:\n",
        "        generator = Generator_A1(input_dim, output_dim)\n",
        "    elif adversarial_attack_type == 4:\n",
        "        '''\n",
        "            adversarial_attack_type 4: G-input in random noise nf-dim (num. of nonfunctional features)\n",
        "            --> input_dim = output_dim = len(nonfunctional_features)\n",
        "        '''\n",
        "        generator = Generator_A1(output_dim, output_dim)\n",
        "    elif adversarial_attack_type == 3:\n",
        "        '''\n",
        "            adversarial_attack_type 3: G-input is nonfunctional feature, G-out is adversarial nonfuncitonal feature.\n",
        "            --> input_dim = output_dim = len(nonfunctional_features)\n",
        "        ''' \n",
        "        generator = Generator_A2(output_dim, output_dim)\n",
        "    else:\n",
        "        raise ValueError(\"Init GAN - Generator: Invalid Adversarial Attack Type\")\n",
        "    return generator\n",
        "\n",
        "# gen_adversarial_attack - Tao luu luong tan cong doi khang\n",
        "def gen_adversarial_attack(generator, noise_dim, raw_attack, attack_category, adversarial_attack_type = 1):\n",
        "    if adversarial_attack_type == 1 or adversarial_attack_type == 4:\n",
        "        # adversarial_attack = generator(noise_dim, raw_attack, POS_NONFUNCTIONAL_FEATURES, attack_category)\n",
        "        adversarial_attack = generator(noise_dim, raw_attack, POS_NONFUNCTIONAL_FEATURES)\n",
        "    elif adversarial_attack_type == 2:\n",
        "        batch_size = len(raw_attack)\n",
        "        noise = V(th.Tensor(np.random.uniform(0,1,(batch_size, noise_dim))))\n",
        "        generator_out = generator(noise)\n",
        "        # adversarial_attack = gen_adversarial_attack_a2(generator_out, raw_attack, POS_NONFUNCTIONAL_FEATURES, attack_category)\n",
        "        adversarial_attack = gen_adversarial_attack_a2(generator_out, raw_attack, POS_NONFUNCTIONAL_FEATURES)\n",
        "    elif adversarial_attack_type == 3:\n",
        "        pos_nonfunctional_feature = POS_NONFUNCTIONAL_FEATURES\n",
        "        # get nonfunctional features val\n",
        "        nonfunctional_feature = raw_attack[:, pos_nonfunctional_feature]\n",
        "        generator_out = generator(nonfunctional_feature)\n",
        "        adversarial_attack = gen_adversarial_attack_a2(generator_out, raw_attack, POS_NONFUNCTIONAL_FEATURES, attack_category)\n",
        "    else:\n",
        "        raise ValueError(\"Init GAN - Generator: Invalid Adversarial Attack Type\")\n",
        "    return adversarial_attack\n",
        "\n",
        "\n",
        "# train_generator - Train Generator\n",
        "def train_generator(generator, discriminator, optimizer_G, noise_dim, attack_traffic, attack_category, adversarial_attack_type):\n",
        "    for p in discriminator.parameters():  \n",
        "        p.requires_grad = False\n",
        "    optimizer_G.zero_grad()        \n",
        "    # GAN-G Generate Adversarial Attack\n",
        "    adversarial_attack = gen_adversarial_attack(generator, noise_dim, attack_traffic, attack_category, adversarial_attack_type)\n",
        "    # GAN-D predict, GAN-G update parameter\n",
        "    D_pred = discriminator(adversarial_attack)\n",
        "    g_loss = -th.mean(D_pred)\n",
        "    g_loss.backward()\n",
        "    optimizer_G.step()\n",
        "    return g_loss\n",
        "\n",
        "# train_discriminator - Train Discriminator\n",
        "def train_discriminator(discriminator, ids_model, generator, critic_iters, clamp, optimizer_D, normal_b, noise_dim, attack_traffic, attack_category, adversarial_attack_type):\n",
        "    run_d_loss = 0\n",
        "    cnt = 0\n",
        "    for p in discriminator.parameters(): \n",
        "        p.requires_grad = True\n",
        "    for c in range(critic_iters):\n",
        "        optimizer_D.zero_grad()\n",
        "        for p in discriminator.parameters():\n",
        "            p.data.clamp_(-clamp, clamp)\n",
        "        # GAN-G Generate Adversarial Attack\n",
        "        adversarial_attack = gen_adversarial_attack(generator, noise_dim, attack_traffic, attack_category, adversarial_attack_type)\n",
        "        # Make data to feed IDS\n",
        "        ids_input = th.cat((adversarial_attack,normal_b))\n",
        "        l = list(range(len(ids_input)))\n",
        "        np.random.shuffle(l)\n",
        "        ids_input = V(th.Tensor(ids_input[l]))\n",
        "        # IDS Predict\n",
        "        ids_pred_label = V(th.Tensor(ids_model.predict(ids_input)))\n",
        "        pred_normal = ids_input[ids_pred_label==0]\n",
        "        pred_attack = ids_input[ids_pred_label==1]\n",
        "        if len(pred_attack) == 0:\n",
        "            cnt += 1\n",
        "            break\n",
        "        # Make GAN-D input\n",
        "        D_noraml = discriminator(V(th.Tensor(pred_normal)))\n",
        "        D_attack= discriminator(V(th.Tensor(pred_attack)))\n",
        "        # Loss and Update Parameter\n",
        "        loss_normal = th.mean(D_noraml)\n",
        "        loss_attack = th.mean(D_attack)\n",
        "        gradient_penalty = compute_gradient_penalty(discriminator, normal_b.data, adversarial_attack.data)\n",
        "        d_loss = loss_attack - loss_normal + LAMBDA * gradient_penalty #sửa\n",
        "        d_loss.backward()\n",
        "        optimizer_D.step()\n",
        "        run_d_loss += d_loss.item()\n",
        "    return run_d_loss, cnt\n",
        "\n",
        "# compute_gradient_penalty - Compute Gradient Penalty\n",
        "def compute_gradient_penalty(D, normal_t, attack_t):\n",
        "    alpha = th.Tensor(np.random.random((normal_t.shape[0], 1)))\n",
        "    between_n_a = (alpha * normal_t + ((1 - alpha) * attack_t)).requires_grad_(True)\n",
        "    d_between_n_a = D(between_n_a)\n",
        "    adv = V(th.Tensor(normal_t.shape[0], 1).fill_(1.0), requires_grad=False)\n",
        "\n",
        "    gradients = autograd.grad(\n",
        "        outputs=d_between_n_a,\n",
        "        inputs=between_n_a,\n",
        "        grad_outputs=adv,\n",
        "        create_graph=True,\n",
        "        retain_graph=True,\n",
        "        only_inputs=True,\n",
        "    )[0]\n",
        "    gradients = gradients.view(gradients.size(0), -1)\n",
        "    gradient_penalty = ((gradients.norm(2, dim=1) - 1) ** 2).mean()\n",
        "    return gradient_penalty"
      ],
      "execution_count": null,
      "outputs": []
    },
    {
      "cell_type": "markdown",
      "metadata": {
        "id": "jRhNLI_jSKIg"
      },
      "source": [
        "## Generate Adversarial Attack Functions"
      ]
    },
    {
      "cell_type": "code",
      "metadata": {
        "id": "RyrR7KLNSPtu"
      },
      "source": [
        "# cal_dr - Tinh DR\n",
        "def cal_dr(ids_model, normal, raw_attack, adversarial_attack):\n",
        "    # Make data to feed IDS contain: Attack & Normal\n",
        "    o_ids_input = th.cat((raw_attack, normal))\n",
        "    a_ids_input = th.cat((adversarial_attack,normal))\n",
        "    # Shuffle Input\n",
        "    l = list(range(len(a_ids_input)))\n",
        "    np.random.shuffle(l)\n",
        "    o_ids_input = o_ids_input[l]\n",
        "    a_ids_input = a_ids_input[l]\n",
        "    # IDS Predict Label\n",
        "    o_pred_label = th.Tensor(ids_model.predict(o_ids_input))\n",
        "    a_pred_label = th.Tensor(ids_model.predict(a_ids_input))\n",
        "    # True Label\n",
        "    ids_true_label = np.r_[np.ones(BATCH_SIZE),np.zeros(BATCH_SIZE)][l]\n",
        "    # Calc DR\n",
        "    tn1, fn1, fp1, tp1 = confusion_matrix(ids_true_label,o_pred_label).ravel()\n",
        "    tn2, fn2, fp2, tp2 = confusion_matrix(ids_true_label,a_pred_label).ravel()\n",
        "    origin_dr = tp1/(tp1 + fp1)\n",
        "    adversarial_dr = tp2/(tp2 + fp2)\n",
        "    return origin_dr, adversarial_dr"
      ],
      "execution_count": null,
      "outputs": []
    },
    {
      "cell_type": "markdown",
      "metadata": {
        "id": "nDp5Uy_HaShp"
      },
      "source": [
        "# **3. Run Model**\n",
        "\n",
        "**Adversarial Attack Category**: là các phương pháp để tạo mẫu tấn công đối kháng hay phương pháp dữ liệu đầu vào của trình tạo sinh (WGAN-G).\n",
        "Có 3 phương pháp như sau:\n",
        " * nonfuctional (3): G_input là nonfunctional feature (nf-dim)\n",
        " * noise-n(1): G_input là noise vector (n-dim)\n",
        " * noise-nf (4): G_input là noise vector (nf-dim)\n",
        "\n",
        "Với các giá trị trong bảng Option tương ứng là: 3,1,4. Chọn 'All' nếu muốn chạy hết toàn bộ"
      ]
    },
    {
      "cell_type": "code",
      "metadata": {
        "cellView": "form",
        "id": "7hTHJcBcRKjg",
        "colab": {
          "base_uri": "https://localhost:8080/"
        },
        "outputId": "59f66dbd-cbbe-4683-ae66-3df26a54ae7f"
      },
      "source": [
        "#@title **OPTION**\n",
        "# ids_ml_model_name - ids_ml_model_name\n",
        "ids_ml_model_name = \"SVM\" #@param ['LR', 'SVM', 'NB', 'DT', 'RF', 'KNN']\n",
        "\n",
        "\n",
        "# load_ids_model_with_created_date - load_ids_model_with_created_date\n",
        "load_ids_model_with_created_date = False #@param {type:\"boolean\"}\n",
        "\n",
        "\n",
        "# ids_created_date - ids_created_date\n",
        "ids_created_date = \"\" #@param [\"\"] {allow-input: true}\n",
        "\n",
        "\n",
        "# # GAN_variant - GAN_variant\n",
        "# GAN_variant = 'WGAN' #@param ['WGAN', 'WGANGP']\n",
        "\n",
        "\n",
        "# MAX_EPOCH - MAX_EPOCH\n",
        "MAX_EPOCH = 2 #@param [100, 10, 2] {type:\"raw\"}\n",
        "\n",
        "\n",
        "# ADVERSARIAL_ATTACK_TYPES - ADVERSARIAL_ATTACK_TYPES\n",
        "GENERATOR_INPUT = \"nonfuctional (type 3)\" #@param [\"ALL\", \"noise-n (type 1)\", \"noise-nf (type 4)\", \"nonfuctional (type 3)\"]\n",
        "ADVERSARIAL_ATTACK_TYPES_MAP = {3: \"nonfuctional (type 3)\", 1: \"noise-n (type 1)\", 4: \"noise-nf (type 4)\"}\n",
        "if GENERATOR_INPUT == 'ALL':\n",
        "    ADVERSARIAL_ATTACK_TYPES = [1, 3, 4]\n",
        "else:\n",
        "    ADVERSARIAL_ATTACK_TYPES = [list(ADVERSARIAL_ATTACK_TYPES_MAP.keys())[list(ADVERSARIAL_ATTACK_TYPES_MAP.values()).index(GENERATOR_INPUT)]]\n",
        "print(f\"ADVERSARIAL_ATTACK_TYPES: \\t{ADVERSARIAL_ATTACK_TYPES}\")\n",
        "\n",
        "# ATTACK_CATEGORIES - ATTACK_CATEGORIES\n",
        "ATTACK_CATEGORIES = 'DOS' #@param ['DOS']\n",
        "# ATTACK_CATEGORIES = 'DOS' #@param ['ALL', 'DOS', 'U2R_AND_R2L']\n",
        "if ATTACK_CATEGORIES == 'ALL':\n",
        "    ATTACK_CATEGORIES = ['DOS', 'U2R_AND_R2L']\n",
        "else:\n",
        "    ATTACK_CATEGORIES = [ATTACK_CATEGORIES]\n",
        "print(f\"ATTACK_CATEGORIES: \\t\\t{ATTACK_CATEGORIES}\")\n",
        "\n",
        "\n",
        "# NOISE_DIM_OPTION - NOISE_DIM_OPTION\n",
        "NOISE_DIM_OPTION = 9 #@param[0, 9, 41] {type:\"raw\"}\n",
        "\n",
        "\n",
        "# save_gan_model_with_created_date - save_gan_model_with_created_date\n",
        "save_gan_model_with_created_date = False #@param {type:\"boolean\"}"
      ],
      "execution_count": null,
      "outputs": [
        {
          "output_type": "stream",
          "name": "stdout",
          "text": [
            "ADVERSARIAL_ATTACK_TYPES: \t[3]\n",
            "ATTACK_CATEGORIES: \t\t['DOS']\n"
          ]
        }
      ]
    },
    {
      "cell_type": "markdown",
      "metadata": {
        "id": "s8tEzhBNxvGM"
      },
      "source": [
        "## **3.1 Run IDSGAN**"
      ]
    },
    {
      "cell_type": "code",
      "metadata": {
        "id": "j01YlgClq7yq"
      },
      "source": [
        "# Hyber Parameters\n",
        "BATCH_SIZE = 64\n",
        "learning_rate = 0.0001\n",
        "LAMBDA = 10\n",
        "CLAMP = 0.01\n",
        "CRITIC_ITERS = 5          # For WGAN and WGAN-GP, number of critic iters per gen iter\n",
        "\n",
        "# GAN-D\n",
        "D_INPUT_DIM = CIC_IDS_2018_N_FEATURES\n",
        "D_OUTPUT_DIM = 1\n",
        "discriminator = Discriminator(D_INPUT_DIM,D_OUTPUT_DIM)\n",
        "optimizer_D = optim.RMSprop(discriminator.parameters(), lr=learning_rate)"
      ],
      "execution_count": null,
      "outputs": []
    },
    {
      "cell_type": "code",
      "metadata": {
        "id": "xG09yA2D9bzg",
        "colab": {
          "base_uri": "https://localhost:8080/"
        },
        "outputId": "16cb8b89-ccd4-4033-b4ff-1d7de8fc35e4"
      },
      "source": [
        "# Get today to set created time for GAN models\n",
        "today = str(date.today())\n",
        "\n",
        "## Prepare Dataset\n",
        "g_train_data = pd.read_csv(g_trainset_path)\n",
        "d_train_data = pd.read_csv(d_trainset_path)\n",
        "\n",
        "# All normal record in train_data\n",
        "del d_train_data[\"Label\"]\n",
        "normal = np.array(d_train_data)\n",
        "\n",
        "print(\"Amount of Generator Trainset:\", g_train_data.shape[0], g_train_data.shape[1])\n",
        "print(\"Amount of Discriminator Trainset:\", d_train_data.shape[0], d_train_data.shape[1])"
      ],
      "execution_count": null,
      "outputs": [
        {
          "output_type": "stream",
          "name": "stdout",
          "text": [
            "Amount of Generator Trainset: 113271 69\n",
            "Amount of Discriminator Trainset: 197857 68\n"
          ]
        }
      ]
    },
    {
      "cell_type": "code",
      "metadata": {
        "id": "m9C1uFo0vnv7",
        "colab": {
          "base_uri": "https://localhost:8080/",
          "height": 673
        },
        "outputId": "3a3f1356-692b-47ef-dddd-abe8aa1dc3a8"
      },
      "source": [
        "print(f\"{40*'='} TRAINING GAN {40*'='}\")\n",
        "print(f\"{80*'='}\\n IDS Model: {ids_ml_model_name}\")\n",
        "\n",
        "for adversarial_attack_type in ADVERSARIAL_ATTACK_TYPES:\n",
        "    print(f\"{80*'*'}\\n  Adversarial Attack Type : {ADVERSARIAL_ATTACK_TYPES_MAP[adversarial_attack_type]}\")\n",
        "    for attack_category in ATTACK_CATEGORIES:\n",
        "        print(f\"{80*'-'}\\n    Attack Category: {attack_category}\")\n",
        "        total_time_start = timeit.default_timer()\n",
        "\n",
        "        # Load sklearn IDS Model\n",
        "        ids_save_name = ids_ml_model_name + \".pkl\"\n",
        "        if load_ids_model_with_created_date:\n",
        "            if ids_created_date == \"\":\n",
        "                raise ValueError(\"Invalid ids_created_date: Please check ids_created_date in the Option table\")\n",
        "            else:\n",
        "                ids_save_name = f\"created_date_{ids_created_date}_\" + ids_save_name \n",
        "        # ids_model = load_sklearn_ids_model(ids_save_name, attack_category)\n",
        "        ids_model = load_sklearn_ids_model(ids_save_name)\n",
        "        # Init GAN-G model\n",
        "        # G_OUTPUT_DIM = len(POS_NONFUNCTIONAL_FEATURES[attack_category])     # Generator output is number of nonfunctional feature\n",
        "        G_OUTPUT_DIM = len(POS_NONFUNCTIONAL_FEATURES)     # Generator output is number of nonfunctional feature\n",
        "        print(f\"    nf              : {G_OUTPUT_DIM} (num. of nonfunctional features)\")\n",
        "        if adversarial_attack_type == 1:\n",
        "            NOISE_DIM = NOISE_DIM_OPTION\n",
        "        else:\n",
        "            NOISE_DIM = G_OUTPUT_DIM                                        # Adversarial Attack Type 3,4: Noise dim = nonfunctional feature\n",
        "        G_INPUT_DIM = NOISE_DIM                                             # G_INPUT_DIM = NOISE_DIM\n",
        "        print(f\"    GAN-G NOISE DIM : {NOISE_DIM}\")\n",
        "        print(f\"    GAN-G INPUT DIM : {G_INPUT_DIM}\")\n",
        "        print(f\"    GAN-G OUTPUT DIM: {G_OUTPUT_DIM}\")\n",
        "        generator = init_generator(G_INPUT_DIM,G_OUTPUT_DIM, adversarial_attack_type)\n",
        "        optimizer_G = optim.RMSprop(generator.parameters(), lr=learning_rate)\n",
        "        # Load Raw Attack Dataset\n",
        "        # raw_attack = preprocess_malicious_data(g_train_data, attack_category)\n",
        "        raw_attack = preprocess_malicious_data(g_train_data)\n",
        "        # Prepare Save Folder\n",
        "        # GAN_4IDS_Model_Path = str(f\"{GAN_MODEL_PATH}Machine_Learning/{ids_ml_model_name}/\")\n",
        "        # if not os.path.exists(GAN_4IDS_Model_Path):\n",
        "        #     os.makedirs(GAN_4IDS_Model_Path)\n",
        "        \n",
        "        # GAN_Save_Path = str(f\"{GAN_4IDS_Model_Path}{attack_category}/{adversarial_attack_type}/\")\n",
        "        # if not os.path.exists(GAN_Save_Path):\n",
        "        #     os.makedirs(GAN_Save_Path)\n",
        "        GAN_Save_Path = '/content/drive/MyDrive/NCKH/Save Model/Model'\n",
        "\n",
        "        # Create batch of attack traffic\n",
        "        batch_attack = create_batch2(raw_attack,BATCH_SIZE)\n",
        "        # Declare Loss, DR List and Train GAN-G, GAN-D\n",
        "        d_losses,g_losses = [],[]\n",
        "        o_dr, a_dr = [],[]\n",
        "        generator.train()\n",
        "        discriminator.train()\n",
        "\n",
        "        # Start Training\n",
        "        print(f\"-->IDSGAN start training\")\n",
        "        print(f\"{4*' '}Folder for saving GAN Models : {GAN_Save_Path}\")\n",
        "        labels = ['Epoch', 'G-Loss', 'D-Loss', 'O-DR(%)', 'A-DR(%)', 'Runtime(s)']\n",
        "        print(\"{: >10} {: >15} {: >15} {: >15} {: >15} {: >15}\".format(*labels))\n",
        "        for epoch in range(MAX_EPOCH):\n",
        "            batch_normal = create_batch2(normal,BATCH_SIZE)\n",
        "            epoch_time_start = timeit.default_timer()\n",
        "            cnt = 0\n",
        "            run_g_loss = 0.\n",
        "            run_d_loss = 0.\n",
        "            epoch_o_drs, epoch_a_drs = [], []\n",
        "\n",
        "            for idx, bn in enumerate(batch_normal):\n",
        "                normal_b = th.Tensor(bn.astype(\"float64\"))\n",
        "                attack_traffic  = V(th.Tensor(batch_attack[idx % len(batch_attack)]))\n",
        "                #  Train Generator\n",
        "                g_loss = train_generator(generator, discriminator, optimizer_G, NOISE_DIM, attack_traffic, attack_category, adversarial_attack_type)\n",
        "                run_g_loss += g_loss.item()\n",
        "\n",
        "                # Train Discriminator\n",
        "                d_loss, current_cnt = train_discriminator(discriminator, ids_model, generator, CRITIC_ITERS, CLAMP, optimizer_D, normal_b, NOISE_DIM, attack_traffic, attack_category, adversarial_attack_type)\n",
        "                run_d_loss += d_loss\n",
        "                cnt += current_cnt\n",
        "                \n",
        "                # CALC Epoch DR\n",
        "                adversarial_attack = gen_adversarial_attack(generator, NOISE_DIM, attack_traffic, attack_category, adversarial_attack_type).detach()\n",
        "                origin_dr, adversarial_dr = cal_dr(ids_model, normal_b, attack_traffic, adversarial_attack)\n",
        "                epoch_o_drs.append(origin_dr)\n",
        "                epoch_a_drs.append(adversarial_dr)\n",
        "\n",
        "            if cnt >= (len(normal)/BATCH_SIZE):\n",
        "                print(\"Not exist predicted attack traffic\")\n",
        "                break\n",
        "            d_losses.append(run_d_loss/CRITIC_ITERS)\n",
        "            g_losses.append(run_g_loss)\n",
        "            epoch_o_dr = np.mean(epoch_o_drs)\n",
        "            epoch_a_dr = np.mean(epoch_a_drs)\n",
        "            o_dr.append(epoch_o_dr)\n",
        "            a_dr.append(epoch_a_dr)\n",
        "            \n",
        "            runtime = timeit.default_timer() - epoch_time_start\n",
        "            print_vals = [(epoch + 1), run_g_loss, (run_d_loss/CRITIC_ITERS), (epoch_o_dr*100), (epoch_a_dr*100), runtime]\n",
        "            print_string = []\n",
        "            for val in print_vals:\n",
        "                if isinstance(val, float):\n",
        "                    print_string.append(str(f\"{val:.2f}\"))\n",
        "                else:\n",
        "                    print_string.append(str(val))\n",
        "            print(\"{: >10} {: >15} {: >15} {: >15} {: >15} {: >15}\".format(*print_string))\n",
        "\n",
        "            # Save GAN-G Model each 10 epoch\n",
        "            if (epoch == 0 or (epoch + 1) % 10 == 0):\n",
        "                if save_gan_model_with_created_date:\n",
        "                    model_g_save_name = f\"time_created_{today}_GAN_G_{epoch+1}epoch.pth\"\n",
        "                else:\n",
        "                    model_g_save_name = f\"GAN_G_{epoch+1}epoch.pth\"\n",
        "                path = GAN_Save_Path + model_g_save_name\n",
        "                th.save(generator.state_dict(), path)\n",
        "                print(f\"{6*' '}-> GAN-G - {attack_category} - A{adversarial_attack_type} Saved: {model_g_save_name}\")\n",
        "        total_runtime = timeit.default_timer() - total_time_start\n",
        "\n",
        "        # Save GAN-D Model\n",
        "        if save_gan_model_with_created_date:\n",
        "            model_d_save_name = f\"time_created_{today}_GAN_D_{MAX_EPOCH}epoch.pth\"\n",
        "        else:\n",
        "            model_d_save_name = f\"GAN_D_{MAX_EPOCH}epoch.pth\"\n",
        "        path = GAN_Save_Path + model_d_save_name\n",
        "        th.save(discriminator.state_dict(), path)\n",
        "        print(f\"{6*' '}-> GAN-D - {attack_category} - A{adversarial_attack_type} Saved: {model_d_save_name}\")\n",
        "        print(f\"Training Runtime: {total_runtime:.2f}\")\n",
        "        print(\"IDSGAN finish training!\")\n"
      ],
      "execution_count": null,
      "outputs": [
        {
          "output_type": "stream",
          "name": "stdout",
          "text": [
            "======================================== TRAINING GAN ========================================\n",
            "================================================================================\n",
            " IDS Model: LR\n",
            "********************************************************************************\n",
            "  Adversarial Attack Type : nonfuctional (type 3)\n",
            "--------------------------------------------------------------------------------\n",
            "    Attack Category: DOS\n"
          ]
        },
        {
          "output_type": "stream",
          "name": "stderr",
          "text": [
            "/usr/local/lib/python3.7/dist-packages/sklearn/base.py:338: UserWarning: Trying to unpickle estimator LogisticRegression from version 0.22.2.post1 when using version 1.0.2. This might lead to breaking code or invalid results. Use at your own risk. For more info please refer to:\n",
            "https://scikit-learn.org/stable/modules/model_persistence.html#security-maintainability-limitations\n",
            "  UserWarning,\n"
          ]
        },
        {
          "output_type": "stream",
          "name": "stdout",
          "text": [
            "    Loaded IDS Model From: /content/drive/My Drive/NCKH/GAN/X.Leopard/Run_On_CICIDS-2018/3. Save Model/IDSModel/Machine_Learning/LR.pkl\n",
            "    nf              : 67 (num. of nonfunctional features)\n",
            "    GAN-G NOISE DIM : 67\n",
            "    GAN-G INPUT DIM : 67\n",
            "    GAN-G OUTPUT DIM: 67\n",
            "-->IDSGAN start training\n",
            "    Folder for saving GAN Models : /content/drive/MyDrive/NCKH/Save Model/Model\n",
            "     Epoch          G-Loss          D-Loss         O-DR(%)         A-DR(%)      Runtime(s)\n",
            "         1      3117448.78   -489384634.05           40.57           50.89          142.98\n",
            "      -> GAN-G - DOS - A3 Saved: GAN_G_1epoch.pth\n",
            "         2      3230175.97   -488816040.78           40.57           50.74          142.58\n",
            "         3      3120335.73   -488752097.53           40.57           50.74          141.62\n",
            "         4      3199373.58   -488844221.55           40.57           50.74          143.49\n",
            "         5      3217822.80   -489329059.79           40.57           50.74          143.79\n",
            "         6      3201261.94   -489189187.60           40.57           50.74          144.45\n",
            "         7      3210965.39   -488983484.59           40.57           50.74          144.08\n",
            "         8      3223285.50   -489308111.28           40.57           50.74          143.92\n",
            "         9      3217261.36   -489431761.69           40.57           50.74          144.46\n",
            "        10      3163047.82   -489465868.64           40.57           50.74          143.21\n",
            "      -> GAN-G - DOS - A3 Saved: GAN_G_10epoch.pth\n",
            "      -> GAN-D - DOS - A3 Saved: GAN_D_10epoch.pth\n",
            "Training Runtime: 1438.23\n",
            "IDSGAN finish training!\n"
          ]
        },
        {
          "output_type": "display_data",
          "data": {
            "text/plain": [
              "<Figure size 432x288 with 1 Axes>"
            ],
            "image/png": "[encoded data removed]"
          },
          "metadata": {
            "needs_background": "light"
          }
        },
        {
          "output_type": "display_data",
          "data": {
            "text/plain": [
              "<Figure size 432x288 with 1 Axes>"
            ],
            "image/png": "[encoded data removed]"
          },
          "metadata": {
            "needs_background": "light"
          }
        }
      ]
    },
    {
      "cell_type": "markdown",
      "metadata": {
        "id": "jQNXCNMEx1bn"
      },
      "source": [
        "## **3.2 Run Generate Adversarial Traffic**"
      ]
    },
    {
      "cell_type": "code",
      "metadata": {
        "id": "I0w_F6zKcgrF"
      },
      "source": [
        "# Hyber Parameters\n",
        "BATCH_SIZE = 256 # Batch size"
      ],
      "execution_count": null,
      "outputs": []
    },
    {
      "cell_type": "code",
      "metadata": {
        "id": "HPx41fPd6CiW",
        "colab": {
          "base_uri": "https://localhost:8080/"
        },
        "outputId": "23646ad7-db4a-40cf-cb27-3c0d37c5f68d"
      },
      "source": [
        "gan_model_time_created = str(date.today())\n",
        "\n",
        "# Load Testset\n",
        "testset = pd.read_csv(testset_path)\n",
        "print(f\"Amount of Test set: \\t\\t{len(testset)}\")\n",
        "# test_normal\n",
        "test_normal = np.array(testset[testset[\"Label\"] == 'Benign'])[:,:-1]\n",
        "# Create batch of normal traffic\n",
        "test_batch_normal = create_batch2(test_normal,BATCH_SIZE).astype('float64')\n",
        "print(f\"Amount of Normal:\\t\\t{len(test_normal)} ({len(test_batch_normal)} batchs - {BATCH_SIZE} records/batch)\")"
      ],
      "execution_count": null,
      "outputs": [
        {
          "output_type": "stream",
          "name": "stdout",
          "text": [
            "Amount of Test set: \t\t69142\n",
            "Amount of Normal:\t\t0 (0 batchs - 256 records/batch)\n"
          ]
        }
      ]
    },
    {
      "cell_type": "code",
      "metadata": {
        "id": "ZhPpd8MCx10u",
        "colab": {
          "base_uri": "https://localhost:8080/",
          "height": 884
        },
        "outputId": "ee3e9535-ea3b-4a3e-b92b-a6081756aa08"
      },
      "source": [
        "# Adversarial Traffic Evaluating\n",
        "print(f\"{40*'='} ADVERSARIAL TRAFFIC EVALUATING {40*'='}\")\n",
        "print(f\"{80*'='}\\n IDS Model: {ids_ml_model_name}\")\n",
        "\n",
        "for adversarial_attack_type in ADVERSARIAL_ATTACK_TYPES:\n",
        "    print(f\"{80*'*'}\\n Adversarial Attack Type : {ADVERSARIAL_ATTACK_TYPES_MAP[adversarial_attack_type]}\")\n",
        "    for attack_category in ATTACK_CATEGORIES:\n",
        "        print(f\"{80*'-'}\\n - Attack Category: {attack_category}\")\n",
        "        \n",
        "        # Load sklearn IDS Model\n",
        "        ids_save_name = ids_ml_model_name + \".pkl\"\n",
        "        if load_ids_model_with_created_date:\n",
        "            if ids_created_date == \"\":\n",
        "                raise ValueError(\"Invalid ids_created_date: Please check ids_created_date in the Option table\")\n",
        "            else:\n",
        "                ids_save_name = f\"created_date_{ids_created_date}_\" + ids_save_name\n",
        "        ids_model = load_sklearn_ids_model(ids_save_name, attack_category)\n",
        "\n",
        "        # Init GAN-G model\n",
        "        G_OUTPUT_DIM = len(POS_NONFUNCTIONAL_FEATURES)      # Generator input dimension is dimention of noise\n",
        "        print(f\"    nf              : {G_OUTPUT_DIM} (num. of nonfunctional features)\")\n",
        "        if adversarial_attack_type == 4 or adversarial_attack_type == 3:\n",
        "            NOISE_DIM = G_OUTPUT_DIM                                        # Adversarial Attack Type 3,4: Noise dim = nonfunctional feature\n",
        "        else:\n",
        "            NOISE_DIM = NOISE_DIM_OPTION\n",
        "\n",
        "        G_INPUT_DIM = NOISE_DIM                                             # G_INPUT_DIM = NOISE_DIM\n",
        "        print(f\"    GAN-G NOISE DIM : {NOISE_DIM}\")\n",
        "        print(f\"    GAN-G INPUT DIM : {G_INPUT_DIM}\")\n",
        "        print(f\"    GAN-G OUTPUT DIM: {G_OUTPUT_DIM}\")\n",
        "        generator = init_generator(G_INPUT_DIM,G_OUTPUT_DIM, adversarial_attack_type)\n",
        "        # Load Attack Dataset\n",
        "        test_raw_attack = preprocess_malicious_data(testset[testset[\"Label\"] != 'Benign'])\n",
        "        # Create batch of attack traffic\n",
        "        batch_attack = create_batch2(test_raw_attack, BATCH_SIZE)\n",
        "        n_batch_attack = len(batch_attack)\n",
        "        print(f\"{4*' '}Amount of {attack_category}:\\t{len(test_raw_attack)} ({n_batch_attack} batchs - {BATCH_SIZE} records/batch)\")\n",
        "        \n",
        "        # Calc DR through each epoch\n",
        "        gan_g_folder_path = str(f\"{GAN_MODEL_PATH}Machine_Learning/{ids_ml_model_name}/{attack_category}/{adversarial_attack_type}/\")\n",
        "        print(f\"{4*' '}GAN Models Folder: {gan_g_folder_path}\")\n",
        "        for epoch in range(0, MAX_EPOCH + 1, 10):\n",
        "            # Load GAN-G Model\n",
        "            if save_gan_model_with_created_date:\n",
        "                model_g_save_name = f\"time_created_{gan_model_time_created}_GAN_G_{1 if epoch == 0 else epoch}epoch.pth\"\n",
        "            else:\n",
        "                model_g_save_name = f\"GAN_G_{1 if epoch == 0 else epoch}epoch.pth\"\n",
        "            gan_g_model_path = gan_g_folder_path + model_g_save_name\n",
        "            param = th.load(gan_g_model_path,map_location=lambda x,y:x)\n",
        "            generator.load_state_dict(param)\n",
        "            generator.eval()\n",
        "\n",
        "            o_dr,a_dr =[],[]\n",
        "            with th.no_grad():\n",
        "                for idx, bn in enumerate(test_batch_normal):\n",
        "                    normal_b = th.Tensor(bn)\n",
        "                    attack_b = th.Tensor(batch_attack[idx % n_batch_attack])\n",
        "                    # Generate Adversarial Traffic\n",
        "                    adversarial_attack_b = gen_adversarial_attack(generator, NOISE_DIM, attack_b, attack_category, adversarial_attack_type).detach()\n",
        "\n",
        "                    # Calc DR\n",
        "                    origin_dr, adversarial_dr = cal_dr(ids_model, normal_b, attack_b, adversarial_attack_b)\n",
        "                    o_dr.append(origin_dr)\n",
        "                    a_dr.append(adversarial_dr)\n",
        "            eir = 1 - (np.mean(a_dr)/np.mean(o_dr))\n",
        "            print(f\"   Model Name: {model_g_save_name}\")\n",
        "            print(f\"\\t {epoch:3d} epochs:\\tOrigin DR : {np.mean(o_dr)*100:.3f}% \\t Adversarial DR : {np.mean(a_dr)*100:.3f}% \\t EIR : {eir*100:.3f}%\")"
      ],
      "execution_count": null,
      "outputs": [
        {
          "output_type": "stream",
          "name": "stdout",
          "text": [
            "======================================== ADVERSARIAL TRAFFIC EVALUATING ========================================\n",
            "================================================================================\n",
            " IDS Model: LR\n",
            "********************************************************************************\n",
            " Adversarial Attack Type : nonfuctional (type 3)\n",
            "--------------------------------------------------------------------------------\n",
            " - Attack Category: DOS\n",
            "    Loaded IDS Model From: /content/drive/My Drive/NCKH/GAN/X.Leopard/Run_On_CICIDS-2018/3. Save Model/IDSModel/Machine_Learning/LR.pkl\n",
            "    nf              : 67 (num. of nonfunctional features)\n",
            "    GAN-G NOISE DIM : 67\n",
            "    GAN-G INPUT DIM : 67\n",
            "    GAN-G OUTPUT DIM: 67\n"
          ]
        },
        {
          "output_type": "stream",
          "name": "stderr",
          "text": [
            "/usr/local/lib/python3.7/dist-packages/sklearn/base.py:338: UserWarning: Trying to unpickle estimator LogisticRegression from version 0.22.2.post1 when using version 1.0.2. This might lead to breaking code or invalid results. Use at your own risk. For more info please refer to:\n",
            "https://scikit-learn.org/stable/modules/model_persistence.html#security-maintainability-limitations\n",
            "  UserWarning,\n"
          ]
        },
        {
          "output_type": "stream",
          "name": "stdout",
          "text": [
            "    Amount of DOS:\t69142 (270 batchs - 256 records/batch)\n",
            "    GAN Models Folder: /content/drive/My Drive/NCKH/GAN/X.Leopard/Run_On_CICIDS-2018/3. Save Model/GANModel/Machine_Learning/LR/DOS/3/\n"
          ]
        },
        {
          "output_type": "error",
          "ename": "RuntimeError",
          "evalue": "ignored",
          "traceback": [
            "\u001b[0;31m---------------------------------------------------------------------------\u001b[0m",
            "\u001b[0;31mRuntimeError\u001b[0m                              Traceback (most recent call last)",
            "\u001b[0;32m<ipython-input-89-a2be08a14553>\u001b[0m in \u001b[0;36m<module>\u001b[0;34m()\u001b[0m\n\u001b[1;32m     48\u001b[0m             \u001b[0mgan_g_model_path\u001b[0m \u001b[0;34m=\u001b[0m \u001b[0mgan_g_folder_path\u001b[0m \u001b[0;34m+\u001b[0m \u001b[0mmodel_g_save_name\u001b[0m\u001b[0;34m\u001b[0m\u001b[0;34m\u001b[0m\u001b[0m\n\u001b[1;32m     49\u001b[0m             \u001b[0mparam\u001b[0m \u001b[0;34m=\u001b[0m \u001b[0mth\u001b[0m\u001b[0;34m.\u001b[0m\u001b[0mload\u001b[0m\u001b[0;34m(\u001b[0m\u001b[0mgan_g_model_path\u001b[0m\u001b[0;34m,\u001b[0m\u001b[0mmap_location\u001b[0m\u001b[0;34m=\u001b[0m\u001b[0;32mlambda\u001b[0m \u001b[0mx\u001b[0m\u001b[0;34m,\u001b[0m\u001b[0my\u001b[0m\u001b[0;34m:\u001b[0m\u001b[0mx\u001b[0m\u001b[0;34m)\u001b[0m\u001b[0;34m\u001b[0m\u001b[0;34m\u001b[0m\u001b[0m\n\u001b[0;32m---> 50\u001b[0;31m             \u001b[0mgenerator\u001b[0m\u001b[0;34m.\u001b[0m\u001b[0mload_state_dict\u001b[0m\u001b[0;34m(\u001b[0m\u001b[0mparam\u001b[0m\u001b[0;34m)\u001b[0m\u001b[0;34m\u001b[0m\u001b[0;34m\u001b[0m\u001b[0m\n\u001b[0m\u001b[1;32m     51\u001b[0m             \u001b[0mgenerator\u001b[0m\u001b[0;34m.\u001b[0m\u001b[0meval\u001b[0m\u001b[0;34m(\u001b[0m\u001b[0;34m)\u001b[0m\u001b[0;34m\u001b[0m\u001b[0;34m\u001b[0m\u001b[0m\n\u001b[1;32m     52\u001b[0m \u001b[0;34m\u001b[0m\u001b[0m\n",
            "\u001b[0;32m/usr/local/lib/python3.7/dist-packages/torch/nn/modules/module.py\u001b[0m in \u001b[0;36mload_state_dict\u001b[0;34m(self, state_dict, strict)\u001b[0m\n\u001b[1;32m   1481\u001b[0m         \u001b[0;32mif\u001b[0m \u001b[0mlen\u001b[0m\u001b[0;34m(\u001b[0m\u001b[0merror_msgs\u001b[0m\u001b[0;34m)\u001b[0m \u001b[0;34m>\u001b[0m \u001b[0;36m0\u001b[0m\u001b[0;34m:\u001b[0m\u001b[0;34m\u001b[0m\u001b[0;34m\u001b[0m\u001b[0m\n\u001b[1;32m   1482\u001b[0m             raise RuntimeError('Error(s) in loading state_dict for {}:\\n\\t{}'.format(\n\u001b[0;32m-> 1483\u001b[0;31m                                self.__class__.__name__, \"\\n\\t\".join(error_msgs)))\n\u001b[0m\u001b[1;32m   1484\u001b[0m         \u001b[0;32mreturn\u001b[0m \u001b[0m_IncompatibleKeys\u001b[0m\u001b[0;34m(\u001b[0m\u001b[0mmissing_keys\u001b[0m\u001b[0;34m,\u001b[0m \u001b[0munexpected_keys\u001b[0m\u001b[0;34m)\u001b[0m\u001b[0;34m\u001b[0m\u001b[0;34m\u001b[0m\u001b[0m\n\u001b[1;32m   1485\u001b[0m \u001b[0;34m\u001b[0m\u001b[0m\n",
            "\u001b[0;31mRuntimeError\u001b[0m: Error(s) in loading state_dict for Generator_A2:\n\tsize mismatch for layer.0.weight: copying a param with shape torch.Size([30, 61]) from checkpoint, the shape in current model is torch.Size([33, 67]).\n\tsize mismatch for layer.0.bias: copying a param with shape torch.Size([30]) from checkpoint, the shape in current model is torch.Size([33]).\n\tsize mismatch for layer.2.weight: copying a param with shape torch.Size([30, 30]) from checkpoint, the shape in current model is torch.Size([33, 33]).\n\tsize mismatch for layer.2.bias: copying a param with shape torch.Size([30]) from checkpoint, the shape in current model is torch.Size([33]).\n\tsize mismatch for layer.4.weight: copying a param with shape torch.Size([30, 30]) from checkpoint, the shape in current model is torch.Size([33, 33]).\n\tsize mismatch for layer.4.bias: copying a param with shape torch.Size([30]) from checkpoint, the shape in current model is torch.Size([33]).\n\tsize mismatch for layer.6.weight: copying a param with shape torch.Size([30, 30]) from checkpoint, the shape in current model is torch.Size([33, 33]).\n\tsize mismatch for layer.6.bias: copying a param with shape torch.Size([30]) from checkpoint, the shape in current model is torch.Size([33]).\n\tsize mismatch for layer.8.weight: copying a param with shape torch.Size([61, 30]) from checkpoint, the shape in current model is torch.Size([67, 33]).\n\tsize mismatch for layer.8.bias: copying a param with shape torch.Size([61]) from checkpoint, the shape in current model is torch.Size([67])."
          ]
        }
      ]
    },
    {
      "cell_type": "markdown",
      "metadata": {
        "id": "mwWugTozppL5"
      },
      "source": [
        "The Saved Model stored in [Google Drive - GAN Model](https://drive.google.com/drive/u/1/folders/1VNFW-k5SbR0eGsJ_np3U-W3Rcz_n4I8N)\n",
        "\n",
        "The Result of Code stored in [Github - Thesis](https://github.com/thetinybug/thesis-IDSGAN)"
      ]
    }
  ]
}